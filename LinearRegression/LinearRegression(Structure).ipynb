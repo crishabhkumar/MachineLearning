{
 "cells": [
  {
   "cell_type": "code",
   "execution_count": 97,
   "metadata": {},
   "outputs": [],
   "source": [
    "import numpy as np"
   ]
  },
  {
   "cell_type": "code",
   "execution_count": 98,
   "metadata": {},
   "outputs": [],
   "source": [
    "data = np.loadtxt(\"data.csv\", delimiter=\",\")"
   ]
  },
  {
   "cell_type": "code",
   "execution_count": 99,
   "metadata": {},
   "outputs": [],
   "source": [
    "x = data[:, 0]\n",
    "y = data[:, 1]"
   ]
  },
  {
   "cell_type": "code",
   "execution_count": 100,
   "metadata": {},
   "outputs": [
    {
     "data": {
      "text/plain": [
       "(100,)"
      ]
     },
     "execution_count": 100,
     "metadata": {},
     "output_type": "execute_result"
    }
   ],
   "source": [
    "x.shape"
   ]
  },
  {
   "cell_type": "code",
   "execution_count": 101,
   "metadata": {},
   "outputs": [],
   "source": [
    "from sklearn import model_selection\n",
    "x_train,x_test,y_train,y_test = model_selection.train_test_split(x,y,test_size = 0.3)"
   ]
  },
  {
   "cell_type": "code",
   "execution_count": 102,
   "metadata": {},
   "outputs": [],
   "source": [
    "def fit(x_train,y_train):\n",
    "    nume = (x_train * y_train).mean() - x_train.mean() * y_train.mean()\n",
    "    deno = (x_train * x_train).mean() - (x_train.mean() * x_train.mean())\n",
    "    m = nume / deno\n",
    "    c = y_train.mean() - m * x_train.mean()\n",
    "    return m,c"
   ]
  },
  {
   "cell_type": "code",
   "execution_count": 103,
   "metadata": {},
   "outputs": [],
   "source": [
    "def predict(x,m,c):\n",
    "    return m * x + c\n",
    "\n",
    "def score(y_truth,y_predict):\n",
    "    u = ((y_truth - y_predict)**2).sum()\n",
    "    v = ((y_truth - y_predict.mean())**2).sum()\n",
    "    score = 1 - u/v\n",
    "    return score"
   ]
  },
  {
   "cell_type": "code",
   "execution_count": 104,
   "metadata": {},
   "outputs": [],
   "source": [
    "def cost(m,c,y,x):\n",
    "    return ((y - (m*x + c))**2).mean()"
   ]
  },
  {
   "cell_type": "code",
   "execution_count": 105,
   "metadata": {},
   "outputs": [
    {
     "name": "stdout",
     "output_type": "stream",
     "text": [
      "Test score: 0.603678298847729\n",
      "Train score: 0.5950859471848733\n",
      "M, C : 1.291729781096679 , 9.253882320052867\n",
      "Cost is: 104.64307108610038\n"
     ]
    }
   ],
   "source": [
    "m, c = fit(x_train,y_train)\n",
    "\n",
    "# on test data\n",
    "y_test_predict = predict(x_test,m,c)\n",
    "print(\"Test score:\",score(y_test, y_test_predict))\n",
    "\n",
    "#on train data\n",
    "y_train_predict = predict(x_train,m,c)\n",
    "print(\"Train score:\",score(y_train,y_train_predict))\n",
    "print(\"M, C :\", m,\",\", c)\n",
    "\n",
    "\n",
    "#cost on training data\n",
    "print(\"Cost is:\",cost(m,c,y_train,x_train))"
   ]
  }
 ],
 "metadata": {
  "kernelspec": {
   "display_name": "Python 3",
   "language": "python",
   "name": "python3"
  },
  "language_info": {
   "codemirror_mode": {
    "name": "ipython",
    "version": 3
   },
   "file_extension": ".py",
   "mimetype": "text/x-python",
   "name": "python",
   "nbconvert_exporter": "python",
   "pygments_lexer": "ipython3",
   "version": "3.8.5"
  }
 },
 "nbformat": 4,
 "nbformat_minor": 4
}
