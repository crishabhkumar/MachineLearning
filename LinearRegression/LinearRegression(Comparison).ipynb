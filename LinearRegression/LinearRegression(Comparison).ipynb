{
 "cells": [
  {
   "cell_type": "code",
   "execution_count": 25,
   "metadata": {},
   "outputs": [],
   "source": [
    "import numpy as np"
   ]
  },
  {
   "cell_type": "code",
   "execution_count": 26,
   "metadata": {},
   "outputs": [],
   "source": [
    "data = np.loadtxt(\"data.csv\",delimiter=\",\")"
   ]
  },
  {
   "cell_type": "code",
   "execution_count": 27,
   "metadata": {},
   "outputs": [],
   "source": [
    "X = data[:,0].reshape(-1,1)\n",
    "Y = data[:,1].reshape(-1,1)\n",
    "x = data[:, 0]\n",
    "y = data[:, 1]"
   ]
  },
  {
   "cell_type": "code",
   "execution_count": 28,
   "metadata": {},
   "outputs": [],
   "source": [
    "from sklearn import model_selection\n",
    "X_train,X_test,Y_train,Y_test = model_selection.train_test_split(X,Y,test_size = 0.3)\n",
    "x_train,x_test,y_train,y_test = model_selection.train_test_split(x,y,test_size = 0.3)"
   ]
  },
  {
   "cell_type": "code",
   "execution_count": 29,
   "metadata": {},
   "outputs": [],
   "source": [
    "#own made functions\n",
    "#fit function\n",
    "def fit(x_train,y_train):\n",
    "    nume = (x_train * y_train).mean() - x_train.mean() * y_train.mean()\n",
    "    deno = (x_train * x_train).mean() - (x_train.mean() * x_train.mean())\n",
    "    m = nume / deno\n",
    "    c = y_train.mean() - m * x_train.mean()\n",
    "    return m,c\n",
    "\n",
    "#preditc function\n",
    "def predict(x,m,c):\n",
    "    return m * x + c\n",
    "\n",
    "#score function\n",
    "def score(y_truth,y_predict):\n",
    "    u = ((y_truth - y_predict)**2).sum()\n",
    "    v = ((y_truth - y_predict.mean())**2).sum()\n",
    "    score = 1 - u/v\n",
    "    return score\n",
    "\n",
    "#cost function\n",
    "def cost(m,c,y,x):\n",
    "    return ((y - (m*x + c))**2).mean()\n"
   ]
  },
  {
   "cell_type": "code",
   "execution_count": 30,
   "metadata": {},
   "outputs": [
    {
     "data": {
      "text/plain": [
       "LinearRegression()"
      ]
     },
     "execution_count": 30,
     "metadata": {},
     "output_type": "execute_result"
    }
   ],
   "source": [
    "# inbuild LinearRegression\n",
    "from sklearn.linear_model import LinearRegression\n",
    "algo1 = LinearRegression()\n",
    "algo1.fit(X_train,Y_train)"
   ]
  },
  {
   "cell_type": "code",
   "execution_count": 31,
   "metadata": {},
   "outputs": [
    {
     "name": "stdout",
     "output_type": "stream",
     "text": [
      "Test score(by own function): 0.5141086145846642\n",
      "Train score(by own function): 0.6273314410022008\n",
      "M, C (by own function): 1.3475290179792372 , 7.679360930301527\n",
      "Cost(of training data) is(by own function): 105.44760869174668\n"
     ]
    }
   ],
   "source": [
    "m, c = fit(x_train,y_train)\n",
    "\n",
    "# on test data\n",
    "y_test_predict = predict(x_test,m,c)\n",
    "print(\"Test score(by own function):\",score(y_test, y_test_predict))\n",
    "\n",
    "#on train data\n",
    "y_train_predict = predict(x_train,m,c)\n",
    "print(\"Train score(by own function):\",score(y_train,y_train_predict))\n",
    "print(\"M, C (by own function):\", m,\",\", c)\n",
    "\n",
    "\n",
    "#cost on training data\n",
    "print(\"Cost(of training data) is(by own function):\",cost(m,c,y_train,x_train))"
   ]
  },
  {
   "cell_type": "code",
   "execution_count": 32,
   "metadata": {},
   "outputs": [
    {
     "name": "stdout",
     "output_type": "stream",
     "text": [
      "Value of m in(Inbuild Algo): [[1.26362507]]\n",
      "Value of c in (Inbuild algo): [11.5852413]\n",
      "Test score (by incuild algo): 0.5699494039891815\n",
      "Train score (by incuild algo): 0.5978152447938063\n"
     ]
    }
   ],
   "source": [
    "print(\"Value of m in(Inbuild Algo):\" , algo1.coef_)\n",
    "print(\"Value of c in (Inbuild algo):\" , algo1.intercept_)\n",
    "print(\"Test score (by incuild algo):\", algo1.score(X_test,Y_test))\n",
    "print(\"Train score (by incuild algo):\", algo1.score(X_train,Y_train))"
   ]
  },
  {
   "cell_type": "code",
   "execution_count": null,
   "metadata": {},
   "outputs": [],
   "source": []
  }
 ],
 "metadata": {
  "kernelspec": {
   "display_name": "Python 3",
   "language": "python",
   "name": "python3"
  },
  "language_info": {
   "codemirror_mode": {
    "name": "ipython",
    "version": 3
   },
   "file_extension": ".py",
   "mimetype": "text/x-python",
   "name": "python",
   "nbconvert_exporter": "python",
   "pygments_lexer": "ipython3",
   "version": "3.8.5"
  }
 },
 "nbformat": 4,
 "nbformat_minor": 4
}
